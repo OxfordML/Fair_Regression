{
 "cells": [
  {
   "cell_type": "markdown",
   "metadata": {},
   "source": [
    "## Step 1\n",
    "\n",
    "We will start off by downloading the from https://data.illinois.gov/datastore/dump/1a0cd05c-7d17-4e3d-938d-c2bfa2a4a0b1. The data set does not have gender information so we will infer gender from the names of the employees using the python gender-geusser library."
   ]
  },
  {
   "cell_type": "code",
   "execution_count": 193,
   "metadata": {
    "collapsed": true
   },
   "outputs": [],
   "source": [
    "import gender_guesser.detector as gender\n",
    "import pandas as pd\n",
    "\n",
    "dec = gender.Detector()\n",
    "data = pd.read_csv('illinois.csv')\n",
    "\n",
    "def name_to_gender(x):\n",
    "    x = x.split(' ')[0].title()\n",
    "    return dec.get_gender(x)\n",
    "\n",
    "data['gender'] = data['Employee Name'].apply(name_to_gender)\n",
    "\n",
    "# Agency, gender, Work County, Collective or Merit, Employment Status, Military Veteran\n",
    "columns = ['Agency', 'Work County', 'Collective or Merit', 'Employment Status', 'gender', 'Military Veteran']\n",
    "\n",
    "data_new = data[columns]"
   ]
  },
  {
   "cell_type": "markdown",
   "metadata": {
    "collapsed": true
   },
   "source": [
    "## Step 2\n",
    "\n",
    "Next we will preprocess the dataset using one hot encoding and label encoding from SKLearn."
   ]
  },
  {
   "cell_type": "code",
   "execution_count": 195,
   "metadata": {},
   "outputs": [
    {
     "name": "stdout",
     "output_type": "stream",
     "text": [
      "Agency\n",
      "Work County\n",
      "Collective or Merit\n",
      "Employment Status\n",
      "gender\n",
      "Military Veteran\n"
     ]
    }
   ],
   "source": [
    "import numpy as np\n",
    "from sklearn.preprocessing import OneHotEncoder, LabelEncoder\n",
    "\n",
    "data = data.replace(np.NaN, '')\n",
    "\n",
    "for label in columns:\n",
    "    print(label)\n",
    "    le = LabelEncoder()\n",
    "    try:\n",
    "        le.fit(data_new[label])\n",
    "        data_new[label] = le.transform(data_new[label])\n",
    "    except: \n",
    "        le.fit(data_new[label].astype('str'))\n",
    "        data_new[label] = le.transform(data_new[label].astype('str'))\n",
    "    \n",
    "X = data_new\n",
    "Y = data['YTD Gross']\n",
    "\n",
    "Y_std = np.std(Y)\n",
    "Y_mean = np.mean(Y)\n",
    "\n",
    "Y = (Y - Y_mean)/Y_std\n",
    "\n",
    "X_train, X_test, Y_train, Y_test = train_test_split(X, Y, test_size=0.20, random_state=42)"
   ]
  },
  {
   "cell_type": "markdown",
   "metadata": {},
   "source": [
    "## Step 3\n",
    "\n",
    "Next we are going to learn the vanila Random Forest Regression from SKLearn."
   ]
  },
  {
   "cell_type": "code",
   "execution_count": 196,
   "metadata": {},
   "outputs": [
    {
     "name": "stdout",
     "output_type": "stream",
     "text": [
      "Populating the interactive namespace from numpy and matplotlib\n"
     ]
    },
    {
     "name": "stderr",
     "output_type": "stream",
     "text": [
      "/anaconda3/lib/python3.6/site-packages/IPython/core/magics/pylab.py:160: UserWarning: pylab import has clobbered these variables: ['f', 'plt']\n",
      "`%matplotlib` prevents importing * from pylab and numpy\n",
      "  \"\\n`%matplotlib` prevents importing * from pylab and numpy\"\n"
     ]
    },
    {
     "name": "stdout",
     "output_type": "stream",
     "text": [
      "RF RMSE prdiction: 0.536884031727876\n"
     ]
    }
   ],
   "source": [
    "from sklearn.ensemble import RandomForestRegressor as RF\n",
    "from sklearn.model_selection import train_test_split\n",
    "\n",
    "import pandas as pd\n",
    "import numpy as np\n",
    "import matplotlib.pylab as plt\n",
    "\n",
    "%pylab inline\n",
    "\n",
    "reg = RF(n_estimators=50, oob_score=True)\n",
    "\n",
    "reg.fit(np.array(X_train.as_matrix()), Y_train)\n",
    "\n",
    "est = reg.predict(X_test)\n",
    "\n",
    "print('RF RMSE prdiction:', np.sqrt((est - Y_test)**2).mean())"
   ]
  },
  {
   "cell_type": "markdown",
   "metadata": {},
   "source": [
    "## Step 4\n",
    "\n",
    "We will now define the function to balance the tres of our random forest."
   ]
  },
  {
   "cell_type": "code",
   "execution_count": 198,
   "metadata": {
    "collapsed": true
   },
   "outputs": [],
   "source": [
    "def balance_tree_predict(x, x_list, tree):\n",
    "    \n",
    "    const = len(x_list)\n",
    "    \n",
    "    vals = tree.tree_.value.reshape(-1,)\n",
    "    \n",
    "    z_ = []\n",
    "    \n",
    "    for i, x_ in enumerate(x_list):\n",
    "        x_size = x_.shape[0]\n",
    "\n",
    "        ix_, jx_ =tree.tree_.decision_path(np.array(x_).astype('float32')).nonzero()\n",
    "\n",
    "        leaf_x_ = []\n",
    "\n",
    "        for ii in np.unique(ix_):\n",
    "            leaf_x_.append(jx_[np.where(ix_==ii)][-1])\n",
    "\n",
    "        bc_x_ = np.bincount(leaf_x_)\n",
    "        while bc_x_.shape[0] < vals.shape[0]:\n",
    "            bc_x_ = np.append(bc_x_,[0])\n",
    "        bc_x_ = bc_x_/np.sum(bc_x_)\n",
    "        z_.append(bc_x_)\n",
    "\n",
    "    z_cols = []\n",
    "    for z_i in z_[1:4]:\n",
    "        z_cols.append((z_[0] - z_i).reshape(-1,1))\n",
    "    z_cols.append((z_[4] - z_[5]).reshape(-1,1))\n",
    "    z_cols.append((z_[6] - z_[7]).reshape(-1,1))\n",
    "        \n",
    "    z = np.concatenate(z_cols, 1)\n",
    "    zz = np.zeros([6,6])\n",
    "        \n",
    "    y = vals\n",
    "    \n",
    "    ix_new, jx_new = tree.tree_.decision_path(np.array(x).astype('float32')).nonzero()\n",
    "    \n",
    "    leaf_x_new = []\n",
    "    \n",
    "    for ii in np.unique(ix_new):\n",
    "        leaf_x_new.append(jx_new[np.where(ix_new==ii)][-1])    \n",
    "        \n",
    "    leaf_x_new = np.array(leaf_x_new)\n",
    "    \n",
    "    y_pert =  (y -  ( z.dot(np.linalg.pinv(np.eye(5)*1e-6 + z.T.dot(z)).dot(z.T.dot(y) ) ))) #(1./(1. + sigma)) *\n",
    "    return  y_pert[leaf_x_new]"
   ]
  },
  {
   "cell_type": "markdown",
   "metadata": {},
   "source": [
    "## Step 5\n",
    "\n",
    "Let's go ahead and balance the trees now."
   ]
  },
  {
   "cell_type": "code",
   "execution_count": 200,
   "metadata": {},
   "outputs": [
    {
     "name": "stdout",
     "output_type": "stream",
     "text": [
      "0\n",
      "1\n",
      "2\n",
      "3\n",
      "4\n",
      "5\n",
      "6\n",
      "7\n",
      "8\n",
      "9\n",
      "10\n",
      "11\n",
      "12\n",
      "13\n",
      "14\n",
      "15\n",
      "16\n",
      "17\n",
      "18\n",
      "19\n",
      "20\n",
      "21\n",
      "22\n",
      "23\n",
      "24\n",
      "25\n",
      "26\n",
      "27\n",
      "28\n",
      "29\n",
      "30\n",
      "31\n",
      "32\n",
      "33\n",
      "34\n",
      "35\n",
      "36\n",
      "37\n",
      "38\n",
      "39\n",
      "40\n",
      "41\n",
      "42\n",
      "43\n",
      "44\n",
      "45\n",
      "46\n",
      "47\n",
      "48\n",
      "49\n"
     ]
    }
   ],
   "source": [
    "gender_1 = X_test['gender']==1\n",
    "gender_2 = X_test['gender']==2\n",
    "vet_1 = X_test['Military Veteran']==0\n",
    "vet_2 = X_test['Military Veteran']==2\n",
    "\n",
    "#gender_1, gender_2, vet_1, vet_2\n",
    "set_a = np.logical_and(gender_1, vet_1)\n",
    "set_b = np.logical_and(gender_2, vet_1)\n",
    "set_c = np.logical_and(gender_1, vet_2)\n",
    "set_d = np.logical_and(gender_2, vet_2)\n",
    "\n",
    "X_ = np.array(X_test.as_matrix())\n",
    "\n",
    "vals = []\n",
    "counter=0\n",
    "for tree in reg.estimators_:\n",
    "    print(counter)\n",
    "    counter += 1\n",
    "    vals.append(balance_tree_predict(X_, [X_[set_a, :], X_[set_b, :], X_[set_c, :], X_[set_d, :], X_[gender_1, :], X_[gender_2, :], X_[vet_1, :], X_[vet_2, :]], tree))\n",
    "    \n",
    "fair = np.concatenate([v.reshape(-1,1) for v in vals], 1).mean(1)*Y_std + Y_mean"
   ]
  },
  {
   "cell_type": "markdown",
   "metadata": {},
   "source": [
    "## Step 6\n",
    "\n",
    "Finally let's plot some results!"
   ]
  },
  {
   "cell_type": "code",
   "execution_count": 202,
   "metadata": {},
   "outputs": [
    {
     "name": "stdout",
     "output_type": "stream",
     "text": [
      "Group A (Female Non-Vets): 47340.7239135 48697.866296\n",
      "Group B (Male Non-Vets): 52766.6694972 48695.857579\n",
      "Group C (Female Vets): 41767.0520161 48697.5360478\n",
      "Group D (Male Vets): 51116.7499922 48696.5509249\n"
     ]
    }
   ],
   "source": [
    "# the effect of groups before and after perturbation\n",
    "# Note the testing is not exactly equal as the probabilities p_A(x) and p_B(x) were estimated on the training set. But its close!\n",
    "print('Group A (Female Non-Vets):', est[set_a].mean()*Y_std + Y_mean, fair[set_a].mean()) \n",
    "print('Group B (Male Non-Vets):', est[set_b].mean()*Y_std + Y_mean, fair[set_b].mean()) \n",
    "print('Group C (Female Vets):', est[set_c].mean()*Y_std + Y_mean, fair[set_c].mean()) \n",
    "print('Group D (Male Vets):', est[set_d].mean()*Y_std + Y_mean, fair[set_d].mean()) "
   ]
  },
  {
   "cell_type": "code",
   "execution_count": 203,
   "metadata": {},
   "outputs": [
    {
     "data": {
      "text/plain": [
       "''"
      ]
     },
     "execution_count": 203,
     "metadata": {},
     "output_type": "execute_result"
    },
    {
     "data": {
      "image/png": "[encoded data removed]",
      "text/plain": [
       "<matplotlib.figure.Figure at 0x1a23ade780>"
      ]
     },
     "metadata": {},
     "output_type": "display_data"
    }
   ],
   "source": [
    "# This is the plot from the NIPS Workshop on Ethical, Social and Governmental Issues Facing AI 2018.\n",
    "\n",
    "f, ((ax1, ax2), (ax4, ax5)) = plt.subplots(2, 2, sharey=True, sharex=True, figsize=[12,2.5]) \n",
    "\n",
    "unfair = est*Y_std + Y_mean\n",
    "bins = np.linspace(30000,80000, 20)\n",
    "\n",
    "ax1.hist([unfair[set_a], fair[set_a]],  bins=bins, weights=np.ones([unfair[set_a].shape[0], 2])*0.5/float(len(unfair[set_a])))\n",
    "ax1.set_xlabel('Income')\n",
    "ax1.vlines(unfair[set_a].mean(), 0, 0.2, lw=2,color='C0', linestyles='-.')\n",
    "ax1.vlines(fair[set_a].mean(), 0, 0.2, lw=2,color='C1', linestyles='-.')\n",
    "\n",
    "ax2.hist([unfair[set_b], fair[set_b]],  bins=bins, weights=np.ones([unfair[set_b].shape[0], 2])*0.5/float(len(unfair[set_b])))\n",
    "ax2.set_xlabel('Income')\n",
    "ax2.vlines(unfair[set_b].mean(), 0, 0.2, lw=2, color='C0', linestyles='-.')\n",
    "ax2.vlines(fair[set_b].mean(), 0, 0.2, lw=2,color='C1', linestyles='-.')\n",
    "\n",
    "ax4.hist([unfair[set_c], fair[set_c]],  bins=bins, weights=np.ones([unfair[set_c].shape[0], 2])*0.5/float(len(unfair[set_c])))\n",
    "ax4.set_xlabel('Income')\n",
    "ax4.vlines(unfair[set_c].mean(), 0, 0.3, lw=2, color='C0', linestyles='-.')\n",
    "ax4.vlines(fair[set_c].mean(), 0, 0.3, lw=2,color='C1', linestyles='-.')\n",
    "\n",
    "ax5.hist([unfair[set_d], fair[set_d]], bins=bins, weights=np.ones([unfair[set_d].shape[0], 2])*0.5/float(len(unfair[set_d])))\n",
    "ax5.set_xlabel('Income')\n",
    "ax5.vlines(unfair[set_d].mean(), 0, 0.3, lw=2, color='C0', linestyles='-.')\n",
    "ax5.vlines(fair[set_d].mean(), 0, 0.3, lw=2,color='C1', linestyles='-.')\n",
    "\n",
    "ax1.set_ylim(0, 0.16)\n",
    "\n",
    "ax1.set_title('Female')\n",
    "ax1.set_ylabel('Non-Veteran')\n",
    "ax4.set_ylabel('Veteran')\n",
    "ax2.set_title('Male')\n",
    "\n",
    "\n",
    "\n",
    "plt.savefig('illinois_intersectionality.png', bbox_inches='tight')\n",
    "\n",
    "''"
   ]
  }
 ],
 "metadata": {
  "kernelspec": {
   "display_name": "Python 3",
   "language": "python",
   "name": "python3"
  },
  "language_info": {
   "codemirror_mode": {
    "name": "ipython",
    "version": 3
   },
   "file_extension": ".py",
   "mimetype": "text/x-python",
   "name": "python",
   "nbconvert_exporter": "python",
   "pygments_lexer": "ipython3",
   "version": "3.6.3"
  }
 },
 "nbformat": 4,
 "nbformat_minor": 2
}
